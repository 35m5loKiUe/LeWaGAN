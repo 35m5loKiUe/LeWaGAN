{
 "cells": [
  {
   "cell_type": "markdown",
   "id": "60e9a47c",
   "metadata": {},
   "source": [
    "# Import Packages"
   ]
  },
  {
   "cell_type": "code",
   "execution_count": 1,
   "id": "8a7c5f7f",
   "metadata": {},
   "outputs": [],
   "source": [
    "import pandas as pd"
   ]
  },
  {
   "cell_type": "code",
   "execution_count": 2,
   "id": "535130fe",
   "metadata": {},
   "outputs": [],
   "source": [
    "import numpy as np"
   ]
  },
  {
   "cell_type": "code",
   "execution_count": 3,
   "id": "ad6bfc12",
   "metadata": {},
   "outputs": [],
   "source": [
    "import os"
   ]
  },
  {
   "cell_type": "code",
   "execution_count": 4,
   "id": "de46cfea",
   "metadata": {},
   "outputs": [],
   "source": [
    "import tensorflow as tf"
   ]
  },
  {
   "cell_type": "markdown",
   "id": "8c0d64cc",
   "metadata": {},
   "source": [
    "# Import Dataset"
   ]
  },
  {
   "cell_type": "markdown",
   "id": "2f3b14ac",
   "metadata": {},
   "source": [
    "## Classic Method"
   ]
  },
  {
   "cell_type": "code",
   "execution_count": 26,
   "id": "77bbee7d",
   "metadata": {},
   "outputs": [],
   "source": [
    "from tensorflow.keras.preprocessing import image"
   ]
  },
  {
   "cell_type": "code",
   "execution_count": 27,
   "id": "3c8b6193",
   "metadata": {},
   "outputs": [],
   "source": [
    "import os"
   ]
  },
  {
   "cell_type": "code",
   "execution_count": 36,
   "id": "03609133",
   "metadata": {},
   "outputs": [],
   "source": [
    "from tensorflow.keras.utils import img_to_array"
   ]
  },
  {
   "cell_type": "code",
   "execution_count": 37,
   "id": "a76f6c65",
   "metadata": {},
   "outputs": [],
   "source": [
    "training_data = []\n",
    "for file_name in os.listdir(DATA_PATH) :\n",
    "    path = os.path.join(DATA_PATH, file_name)\n",
    "    img = image.load_img(path)\n",
    "    img = img.resize([28, 28])\n",
    "    training_data.append(img_to_array(img))"
   ]
  },
  {
   "cell_type": "code",
   "execution_count": 38,
   "id": "f374a988",
   "metadata": {},
   "outputs": [],
   "source": [
    "training_data = np.reshape(training_data,(-1,28,28,3))\n",
    "training_data = training_data.astype(np.float32)\n",
    "training_data = training_data / 127.5 - 1."
   ]
  },
  {
   "cell_type": "code",
   "execution_count": 41,
   "id": "b0af999d",
   "metadata": {},
   "outputs": [],
   "source": [
    "from tensorflow.data import Dataset"
   ]
  },
  {
   "cell_type": "code",
   "execution_count": 42,
   "id": "736c4aec",
   "metadata": {},
   "outputs": [],
   "source": [
    "BUFFER_SIZE = 60000\n",
    "BATCH_SIZE = 256"
   ]
  },
  {
   "cell_type": "code",
   "execution_count": 43,
   "id": "fd2721ff",
   "metadata": {},
   "outputs": [],
   "source": [
    "train_dataset = Dataset.from_tensor_slices(training_data).shuffle(BUFFER_SIZE).batch(BATCH_SIZE)"
   ]
  },
  {
   "cell_type": "code",
   "execution_count": 44,
   "id": "8a760561",
   "metadata": {},
   "outputs": [
    {
     "data": {
      "text/plain": [
       "<BatchDataset element_spec=TensorSpec(shape=(None, 28, 28, 3), dtype=tf.float32, name=None)>"
      ]
     },
     "execution_count": 44,
     "metadata": {},
     "output_type": "execute_result"
    }
   ],
   "source": [
    "train_dataset"
   ]
  },
  {
   "cell_type": "markdown",
   "id": "91ef6825",
   "metadata": {},
   "source": [
    "## Tensorflow like method"
   ]
  },
  {
   "cell_type": "code",
   "execution_count": 6,
   "id": "ccab4bb1",
   "metadata": {},
   "outputs": [
    {
     "name": "stdout",
     "output_type": "stream",
     "text": [
      "Found 7009 files belonging to 1 classes.\n"
     ]
    },
    {
     "data": {
      "text/plain": [
       "<ShuffleDataset element_spec=TensorSpec(shape=(28, 28, 3), dtype=tf.float32, name=None)>"
      ]
     },
     "execution_count": 6,
     "metadata": {},
     "output_type": "execute_result"
    }
   ],
   "source": [
    "from tensorflow.keras.utils import image_dataset_from_directory\n",
    "\n",
    "path = '/Users/theopinto--dalle/code/35m5loKiUe/LeWaGAN/LeWaGAN/raw_data/'\n",
    "\n",
    "dataset_test = image_dataset_from_directory(path, image_size=(28,28), labels=None, batch_size=None)\n",
    "\n",
    "dataset_test"
   ]
  },
  {
   "cell_type": "code",
   "execution_count": 12,
   "id": "075667a4",
   "metadata": {},
   "outputs": [
    {
     "name": "stderr",
     "output_type": "stream",
     "text": [
      "2023-02-09 20:37:04.975677: W tensorflow/core/platform/profile_utils/cpu_utils.cc:128] Failed to get CPU frequency: 0 Hz\n"
     ]
    },
    {
     "name": "stdout",
     "output_type": "stream",
     "text": [
      "tf.Tensor(\n",
      "[[[  9.382651    0.6173482  13.785715 ]\n",
      "  [  7.214283    8.857138   10.642853 ]\n",
      "  [  4.         14.         13.       ]\n",
      "  ...\n",
      "  [ 21.657955   24.657955   29.657955 ]\n",
      "  [ 11.790758   14.790758   19.790758 ]\n",
      "  [ 20.474573   23.474573   28.474573 ]]\n",
      "\n",
      " [[  4.         14.         13.       ]\n",
      "  [  0.          9.642853    8.642853 ]\n",
      "  [  4.         14.         13.       ]\n",
      "  ...\n",
      "  [ 18.         21.         26.       ]\n",
      "  [ 21.127573   24.127573   29.127573 ]\n",
      "  [ 17.92865    20.92865    25.92865  ]]\n",
      "\n",
      " [[  4.913268   12.913268   14.913268 ]\n",
      "  [  9.571426   17.571426   19.571426 ]\n",
      "  [  2.0714264  12.071426   11.071426 ]\n",
      "  ...\n",
      "  [ 27.351967   30.351967   35.351967 ]\n",
      "  [ 14.         17.         22.       ]\n",
      "  [ 19.056116   22.056116   27.056116 ]]\n",
      "\n",
      " ...\n",
      "\n",
      " [[  2.         11.         10.       ]\n",
      "  [  1.         10.          9.       ]\n",
      "  [  2.         11.         10.       ]\n",
      "  ...\n",
      "  [105.209305   65.209305   63.20931  ]\n",
      "  [ 70.311165   49.31117    48.31117  ]\n",
      "  [ 73.71417    48.714172   51.714172 ]]\n",
      "\n",
      " [[  2.         11.         10.       ]\n",
      "  [  2.         11.         10.       ]\n",
      "  [  0.          9.          8.       ]\n",
      "  ...\n",
      "  [124.836876  102.81135    88.81135  ]\n",
      "  [ 94.15823    65.15823    59.6174   ]\n",
      "  [ 52.928406   33.571472   44.357117 ]]\n",
      "\n",
      " [[  0.          7.          6.       ]\n",
      "  [  1.         10.          9.       ]\n",
      "  [  1.         10.          9.       ]\n",
      "  ...\n",
      "  [ 65.87256    52.801086   43.658142 ]\n",
      "  [145.00012   105.00012    79.00012  ]\n",
      "  [102.785645   74.785645   70.785645 ]]], shape=(28, 28, 3), dtype=float32)\n"
     ]
    }
   ],
   "source": [
    "for i in dataset_test :\n",
    "    print(i)\n",
    "    break"
   ]
  },
  {
   "cell_type": "markdown",
   "id": "e8f30655",
   "metadata": {},
   "source": [
    "### let's try to normalize the pictures"
   ]
  },
  {
   "cell_type": "code",
   "execution_count": 7,
   "id": "2dc97f48",
   "metadata": {},
   "outputs": [],
   "source": [
    "func = lambda x : x/255"
   ]
  },
  {
   "cell_type": "code",
   "execution_count": 8,
   "id": "dd57d58b",
   "metadata": {},
   "outputs": [],
   "source": [
    "n_dataset = dataset_test.map(map_func=func)"
   ]
  },
  {
   "cell_type": "code",
   "execution_count": 9,
   "id": "5127eaec",
   "metadata": {},
   "outputs": [
    {
     "data": {
      "text/plain": [
       "<MapDataset element_spec=TensorSpec(shape=(28, 28, 3), dtype=tf.float32, name=None)>"
      ]
     },
     "execution_count": 9,
     "metadata": {},
     "output_type": "execute_result"
    }
   ],
   "source": [
    "n_dataset"
   ]
  },
  {
   "cell_type": "code",
   "execution_count": 13,
   "id": "d02ae60f",
   "metadata": {
    "collapsed": true
   },
   "outputs": [
    {
     "name": "stdout",
     "output_type": "stream",
     "text": [
      "tf.Tensor(\n",
      "[[[0.07843138 0.18039216 0.16862746]\n",
      "  [0.10588235 0.20392157 0.19215687]\n",
      "  [0.07955181 0.17759103 0.16582632]\n",
      "  ...\n",
      "  [0.27030796 0.22324912 0.27030796]\n",
      "  [0.12857142 0.18739495 0.19915967]\n",
      "  [0.08085213 0.18281291 0.17889135]]\n",
      "\n",
      " [[0.14705886 0.24509807 0.23333336]\n",
      "  [0.12016805 0.20644256 0.19859943]\n",
      "  [0.1112045  0.20924371 0.19747901]\n",
      "  ...\n",
      "  [0.43091282 0.34855986 0.328952  ]\n",
      "  [0.21518598 0.18313327 0.16190472]\n",
      "  [0.2123051  0.2123051  0.20446195]]\n",
      "\n",
      " [[0.09887955 0.18515407 0.17731093]\n",
      "  [0.08599441 0.18403362 0.17226891]\n",
      "  [0.03165253 0.12969175 0.11792704]\n",
      "  ...\n",
      "  [0.5974793  0.52689105 0.44061655]\n",
      "  [0.5443581  0.47769138 0.36788747]\n",
      "  [0.316747   0.25792348 0.1677274 ]]\n",
      "\n",
      " ...\n",
      "\n",
      " [[0.4266707  0.48157266 0.37961185]\n",
      "  [0.28235307 0.3529413  0.25882366]\n",
      "  [0.20390119 0.27056786 0.23135218]\n",
      "  ...\n",
      "  [0.21344641 0.24089739 0.11958901]\n",
      "  [0.0865548  0.22380969 0.19635871]\n",
      "  [0.09041628 0.18845549 0.17669079]]\n",
      "\n",
      " [[0.40784314 0.48235294 0.3647059 ]\n",
      "  [0.3866146  0.44543812 0.3238695 ]\n",
      "  [0.3845938  0.4394958  0.3728291 ]\n",
      "  ...\n",
      "  [0.28507423 0.2586438  0.1040219 ]\n",
      "  [0.14077628 0.21014392 0.17182857]\n",
      "  [0.11512595 0.20140046 0.18963575]]\n",
      "\n",
      " [[0.38039216 0.4392157  0.34901962]\n",
      "  [0.31426588 0.32434937 0.25852332]\n",
      "  [0.25176096 0.27304894 0.21820703]\n",
      "  ...\n",
      "  [0.64419687 0.62066746 0.5187067 ]\n",
      "  [0.20868303 0.20670234 0.18127187]\n",
      "  [0.12941177 0.21176471 0.21568628]]], shape=(28, 28, 3), dtype=float32)\n"
     ]
    }
   ],
   "source": [
    "for i in n_dataset :\n",
    "    print(i)\n",
    "    break"
   ]
  },
  {
   "cell_type": "code",
   "execution_count": 14,
   "id": "6f58089c",
   "metadata": {},
   "outputs": [
    {
     "data": {
      "text/plain": [
       "<BatchDataset element_spec=TensorSpec(shape=(None, 28, 28, 3), dtype=tf.float32, name=None)>"
      ]
     },
     "execution_count": 14,
     "metadata": {},
     "output_type": "execute_result"
    }
   ],
   "source": [
    "f_dataset = n_dataset.batch(batch_size=32, drop_remainder=False)\n",
    "f_dataset"
   ]
  }
 ],
 "metadata": {
  "kernelspec": {
   "display_name": "Python 3 (ipykernel)",
   "language": "python",
   "name": "python3"
  },
  "language_info": {
   "codemirror_mode": {
    "name": "ipython",
    "version": 3
   },
   "file_extension": ".py",
   "mimetype": "text/x-python",
   "name": "python",
   "nbconvert_exporter": "python",
   "pygments_lexer": "ipython3",
   "version": "3.10.6"
  },
  "toc": {
   "base_numbering": 1,
   "nav_menu": {},
   "number_sections": true,
   "sideBar": true,
   "skip_h1_title": false,
   "title_cell": "Table of Contents",
   "title_sidebar": "Contents",
   "toc_cell": false,
   "toc_position": {},
   "toc_section_display": true,
   "toc_window_display": false
  },
  "vscode": {
   "interpreter": {
    "hash": "d5aa102b1eb1824bc5a0559095cb30dceba25c4be9e9a0aec88aaade8f29e4ac"
   }
  }
 },
 "nbformat": 4,
 "nbformat_minor": 5
}
