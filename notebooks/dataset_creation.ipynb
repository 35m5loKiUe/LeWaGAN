{
 "cells": [
  {
   "cell_type": "markdown",
   "id": "60e9a47c",
   "metadata": {},
   "source": [
    "# Import Packages"
   ]
  },
  {
   "cell_type": "code",
   "execution_count": 1,
   "id": "8a7c5f7f",
   "metadata": {},
   "outputs": [],
   "source": [
    "import pandas as pd"
   ]
  },
  {
   "cell_type": "code",
   "execution_count": 2,
   "id": "535130fe",
   "metadata": {},
   "outputs": [],
   "source": [
    "import numpy as np"
   ]
  },
  {
   "cell_type": "code",
   "execution_count": 3,
   "id": "ad6bfc12",
   "metadata": {},
   "outputs": [],
   "source": [
    "import os"
   ]
  },
  {
   "cell_type": "code",
   "execution_count": 15,
   "id": "de46cfea",
   "metadata": {},
   "outputs": [],
   "source": [
    "import tensorflow as tf"
   ]
  },
  {
   "cell_type": "markdown",
   "id": "8c0d64cc",
   "metadata": {},
   "source": [
    "# Import Dataset"
   ]
  },
  {
   "cell_type": "markdown",
   "id": "2f3b14ac",
   "metadata": {},
   "source": [
    "## Classic Method"
   ]
  },
  {
   "cell_type": "code",
   "execution_count": 26,
   "id": "77bbee7d",
   "metadata": {},
   "outputs": [],
   "source": [
    "from tensorflow.keras.preprocessing import image"
   ]
  },
  {
   "cell_type": "code",
   "execution_count": 27,
   "id": "3c8b6193",
   "metadata": {},
   "outputs": [],
   "source": [
    "import os"
   ]
  },
  {
   "cell_type": "code",
   "execution_count": 36,
   "id": "03609133",
   "metadata": {},
   "outputs": [],
   "source": [
    "from tensorflow.keras.utils import img_to_array"
   ]
  },
  {
   "cell_type": "code",
   "execution_count": 37,
   "id": "a76f6c65",
   "metadata": {},
   "outputs": [],
   "source": [
    "training_data = []\n",
    "for file_name in os.listdir(DATA_PATH) :\n",
    "    path = os.path.join(DATA_PATH, file_name)\n",
    "    img = image.load_img(path)\n",
    "    img = img.resize([28, 28])\n",
    "    training_data.append(img_to_array(img))"
   ]
  },
  {
   "cell_type": "code",
   "execution_count": 38,
   "id": "f374a988",
   "metadata": {},
   "outputs": [],
   "source": [
    "training_data = np.reshape(training_data,(-1,28,28,3))\n",
    "training_data = training_data.astype(np.float32)\n",
    "training_data = training_data / 127.5 - 1."
   ]
  },
  {
   "cell_type": "code",
   "execution_count": 41,
   "id": "b0af999d",
   "metadata": {},
   "outputs": [],
   "source": [
    "from tensorflow.data import Dataset"
   ]
  },
  {
   "cell_type": "code",
   "execution_count": 42,
   "id": "736c4aec",
   "metadata": {},
   "outputs": [],
   "source": [
    "BUFFER_SIZE = 60000\n",
    "BATCH_SIZE = 256"
   ]
  },
  {
   "cell_type": "code",
   "execution_count": 43,
   "id": "fd2721ff",
   "metadata": {},
   "outputs": [],
   "source": [
    "train_dataset = Dataset.from_tensor_slices(training_data).shuffle(BUFFER_SIZE).batch(BATCH_SIZE)"
   ]
  },
  {
   "cell_type": "code",
   "execution_count": 44,
   "id": "8a760561",
   "metadata": {},
   "outputs": [
    {
     "data": {
      "text/plain": [
       "<BatchDataset element_spec=TensorSpec(shape=(None, 28, 28, 3), dtype=tf.float32, name=None)>"
      ]
     },
     "execution_count": 44,
     "metadata": {},
     "output_type": "execute_result"
    }
   ],
   "source": [
    "train_dataset"
   ]
  },
  {
   "cell_type": "markdown",
   "id": "91ef6825",
   "metadata": {},
   "source": [
    "## Tensorflow like method"
   ]
  },
  {
   "cell_type": "code",
   "execution_count": 45,
   "id": "ccab4bb1",
   "metadata": {},
   "outputs": [],
   "source": [
    "from tensorflow.keras.utils import image_dataset_from_directory"
   ]
  },
  {
   "cell_type": "code",
   "execution_count": 46,
   "id": "1dfaa7ae",
   "metadata": {},
   "outputs": [],
   "source": [
    "path = '/Users/theopinto--dalle/code/35m5loKiUe/LeWaGAN/LeWaGAN/raw_data/'"
   ]
  },
  {
   "cell_type": "code",
   "execution_count": 54,
   "id": "2299a361",
   "metadata": {},
   "outputs": [
    {
     "name": "stdout",
     "output_type": "stream",
     "text": [
      "Found 7009 files belonging to 1 classes.\n"
     ]
    }
   ],
   "source": [
    "dataset_test = image_dataset_from_directory(path, image_size=(28,28), labels=None)"
   ]
  },
  {
   "cell_type": "code",
   "execution_count": 56,
   "id": "d80d475b",
   "metadata": {},
   "outputs": [
    {
     "data": {
      "text/plain": [
       "<BatchDataset element_spec=TensorSpec(shape=(None, 28, 28, 3), dtype=tf.float32, name=None)>"
      ]
     },
     "execution_count": 56,
     "metadata": {},
     "output_type": "execute_result"
    }
   ],
   "source": [
    "dataset_test"
   ]
  }
 ],
 "metadata": {
  "kernelspec": {
   "display_name": "Python 3 (ipykernel)",
   "language": "python",
   "name": "python3"
  },
  "language_info": {
   "codemirror_mode": {
    "name": "ipython",
    "version": 3
   },
   "file_extension": ".py",
   "mimetype": "text/x-python",
   "name": "python",
   "nbconvert_exporter": "python",
   "pygments_lexer": "ipython3",
   "version": "3.10.6"
  },
  "toc": {
   "base_numbering": 1,
   "nav_menu": {},
   "number_sections": true,
   "sideBar": true,
   "skip_h1_title": false,
   "title_cell": "Table of Contents",
   "title_sidebar": "Contents",
   "toc_cell": false,
   "toc_position": {},
   "toc_section_display": true,
   "toc_window_display": false
  }
 },
 "nbformat": 4,
 "nbformat_minor": 5
}
